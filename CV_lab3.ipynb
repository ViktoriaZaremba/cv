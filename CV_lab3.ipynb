{
  "nbformat": 4,
  "nbformat_minor": 0,
  "metadata": {
    "colab": {
      "name": "CV_lab3.ipynb",
      "provenance": [],
      "mount_file_id": "167jhLmr8zfHxlsGclIZG2EbnrGyRSm1q",
      "authorship_tag": "ABX9TyP6NSnT1eTIf2p7dOmczH1c",
      "include_colab_link": true
    },
    "kernelspec": {
      "name": "python3",
      "display_name": "Python 3"
    },
    "language_info": {
      "name": "python"
    },
    "accelerator": "GPU"
  },
  "cells": [
    {
      "cell_type": "markdown",
      "metadata": {
        "id": "view-in-github",
        "colab_type": "text"
      },
      "source": [
        "<a href=\"https://colab.research.google.com/github/ViktoriaZaremba/cv/blob/master/CV_lab3.ipynb\" target=\"_parent\"><img src=\"https://colab.research.google.com/assets/colab-badge.svg\" alt=\"Open In Colab\"/></a>"
      ]
    },
    {
      "cell_type": "markdown",
      "metadata": {
        "id": "aFgosFYhRN87"
      },
      "source": [
        "\n",
        "## Data Processing\n"
      ]
    },
    {
      "cell_type": "code",
      "execution_count": 41,
      "metadata": {
        "id": "UWUnpOjzRN9A"
      },
      "outputs": [],
      "source": [
        "import numpy as np \n",
        "import pandas as pd \n",
        "import os, time\n",
        "import matplotlib.pyplot as plt\n",
        "%matplotlib inline\n",
        "from sklearn.model_selection import train_test_split\n",
        "import keras\n",
        "from tensorflow.keras.utils import to_categorical\n",
        "from keras.models import Sequential\n",
        "from keras.layers import Conv2D, MaxPooling2D\n",
        "from keras.layers import Dense, Dropout, Flatten\n",
        "from keras.models import Model\n",
        "from keras import models\n",
        "from keras.preprocessing.image import ImageDataGenerator\n",
        "from tensorflow.keras.applications import VGG16;\n",
        "from keras.applications.vgg16 import preprocess_input\n",
        "import os"
      ]
    },
    {
      "cell_type": "markdown",
      "source": [
        "Юзайємо GPU бо сил ніяких нема стільки чекати поки воно натрейниться\n"
      ],
      "metadata": {
        "id": "mZi3hXIXYjt9"
      }
    },
    {
      "cell_type": "code",
      "source": [
        "import tensorflow as tf\n",
        "tf.test.gpu_device_name()"
      ],
      "metadata": {
        "colab": {
          "base_uri": "https://localhost:8080/",
          "height": 35
        },
        "id": "TkQxqM0LS9eA",
        "outputId": "e1755af9-5bb1-494c-c4f6-0bcd5cdc60e5"
      },
      "execution_count": 42,
      "outputs": [
        {
          "output_type": "execute_result",
          "data": {
            "text/plain": [
              "'/device:GPU:0'"
            ],
            "application/vnd.google.colaboratory.intrinsic+json": {
              "type": "string"
            }
          },
          "metadata": {},
          "execution_count": 42
        }
      ]
    },
    {
      "cell_type": "markdown",
      "metadata": {
        "id": "yaDheMiiRN9D"
      },
      "source": [
        "### Loading the dataset from raw csv files.\n"
      ]
    },
    {
      "cell_type": "code",
      "source": [
        "from google.colab import drive\n",
        "drive.mount('/content/drive')"
      ],
      "metadata": {
        "colab": {
          "base_uri": "https://localhost:8080/"
        },
        "id": "TQKsWrYSUuyh",
        "outputId": "c9bcad42-4b9f-4530-e954-dbfe5cb74cb1"
      },
      "execution_count": 43,
      "outputs": [
        {
          "output_type": "stream",
          "name": "stdout",
          "text": [
            "Drive already mounted at /content/drive; to attempt to forcibly remount, call drive.mount(\"/content/drive\", force_remount=True).\n"
          ]
        }
      ]
    },
    {
      "cell_type": "code",
      "execution_count": 44,
      "metadata": {
        "id": "DKqB7Z3iRN9E"
      },
      "outputs": [],
      "source": [
        "train_data = pd.read_csv('/content/drive/MyDrive/Colab Notebooks/fashion-mnist_train.csv')\n",
        "test_data = pd.read_csv('/content/drive/MyDrive/Colab Notebooks/fashion-mnist_test.csv')"
      ]
    },
    {
      "cell_type": "code",
      "execution_count": 45,
      "metadata": {
        "id": "8k31MP8PRN9F"
      },
      "outputs": [],
      "source": [
        "train_data.shape\n",
        "test_data.shape \n",
        "train_X= np.array(train_data.iloc[:,1:])\n",
        "test_X= np.array(test_data.iloc[:,1:])\n",
        "train_Y= np.array (train_data.iloc[:,0])\n",
        "test_Y = np.array(test_data.iloc[:,0])"
      ]
    },
    {
      "cell_type": "code",
      "execution_count": 46,
      "metadata": {
        "id": "6EAz_KD3RN9G",
        "outputId": "9eed1cc8-03b3-44a6-b623-77a8396875c3",
        "colab": {
          "base_uri": "https://localhost:8080/"
        }
      },
      "outputs": [
        {
          "output_type": "execute_result",
          "data": {
            "text/plain": [
              "((60000, 784), (10000, 784))"
            ]
          },
          "metadata": {},
          "execution_count": 46
        }
      ],
      "source": [
        "train_X.shape, test_X.shape"
      ]
    },
    {
      "cell_type": "code",
      "execution_count": 47,
      "metadata": {
        "id": "MvTEC6htRN9G",
        "outputId": "8b8e96d0-e758-4ee4-b276-4895b0fb863b",
        "colab": {
          "base_uri": "https://localhost:8080/"
        }
      },
      "outputs": [
        {
          "output_type": "execute_result",
          "data": {
            "text/plain": [
              "10"
            ]
          },
          "metadata": {},
          "execution_count": 47
        }
      ],
      "source": [
        "classes = np.unique(train_Y)\n",
        "num_classes = len(classes)\n",
        "num_classes"
      ]
    },
    {
      "cell_type": "markdown",
      "metadata": {
        "id": "XqGGXsx7RN9H"
      },
      "source": [
        "А на  ILSVRC 200 класів!!!\n",
        "\n",
        "А не 10\n",
        "\n",
        "І ще вийшла накладка, бо VVG створений для триканальних зображень, а в наші доні чорнобілі (один канал). Тому шаманимо і перетворюємо на 3."
      ]
    },
    {
      "cell_type": "code",
      "execution_count": 48,
      "metadata": {
        "id": "ZLvQfF50RN9I",
        "outputId": "a9dfb6fc-5101-4d88-d632-64f25cdb4ea7",
        "colab": {
          "base_uri": "https://localhost:8080/"
        }
      },
      "outputs": [
        {
          "output_type": "execute_result",
          "data": {
            "text/plain": [
              "((60000, 784, 3), (10000, 784, 3))"
            ]
          },
          "metadata": {},
          "execution_count": 48
        }
      ],
      "source": [
        "train_X=np.dstack([train_X] * 3)\n",
        "test_X=np.dstack([test_X]*3)\n",
        "train_X.shape,test_X.shape"
      ]
    },
    {
      "cell_type": "markdown",
      "metadata": {
        "id": "WQI1-HoxRN9I"
      },
      "source": [
        "### Reshaping images as per the tensor format required by tensorflow\n"
      ]
    },
    {
      "cell_type": "markdown",
      "source": [
        "Таке ж робиться в методичі..."
      ],
      "metadata": {
        "id": "SROZC6v9ZtSM"
      }
    },
    {
      "cell_type": "code",
      "execution_count": 49,
      "metadata": {
        "id": "UwILcdR7RN9I",
        "outputId": "e51a5d3a-cea9-45be-9350-c5211c82cf12",
        "colab": {
          "base_uri": "https://localhost:8080/"
        }
      },
      "outputs": [
        {
          "output_type": "execute_result",
          "data": {
            "text/plain": [
              "((60000, 28, 28, 3), (10000, 28, 28, 3))"
            ]
          },
          "metadata": {},
          "execution_count": 49
        }
      ],
      "source": [
        "train_X = train_X.reshape(-1, 28,28,3)\n",
        "test_X= test_X.reshape (-1,28,28,3)\n",
        "train_X.shape,test_X.shape"
      ]
    },
    {
      "cell_type": "code",
      "execution_count": 50,
      "metadata": {
        "id": "BmMw6eOsRN9J"
      },
      "outputs": [],
      "source": [
        "train_X = train_X / 255.\n",
        "test_X = test_X / 255.\n",
        "train_X = train_X.astype('float32')\n",
        "test_X = test_X.astype('float32')"
      ]
    },
    {
      "cell_type": "code",
      "execution_count": 51,
      "metadata": {
        "id": "I3UJQKC0RN9J",
        "outputId": "512facd3-be80-47d8-8567-96a536d2cf9f",
        "colab": {
          "base_uri": "https://localhost:8080/"
        }
      },
      "outputs": [
        {
          "output_type": "execute_result",
          "data": {
            "text/plain": [
              "((60000, 48, 48, 3), (10000, 48, 48, 3))"
            ]
          },
          "metadata": {},
          "execution_count": 51
        }
      ],
      "source": [
        "from keras.preprocessing.image import img_to_array, array_to_img\n",
        "train_X = np.asarray([img_to_array(array_to_img(im, scale=False).resize((48,48))) for im in train_X])\n",
        "test_X = np.asarray([img_to_array(array_to_img(im, scale=False).resize((48,48))) for im in test_X])\n",
        "train_X.shape, test_X.shape"
      ]
    },
    {
      "cell_type": "code",
      "execution_count": 52,
      "metadata": {
        "id": "cSKS2aMoRN9K"
      },
      "outputs": [],
      "source": [
        "# Нормальлізуємо дані і міняємо формат\n",
        "train_X = train_X / 255.\n",
        "test_X = test_X / 255.\n",
        "train_X = train_X.astype('float32')\n",
        "test_X = test_X.astype('float32')"
      ]
    },
    {
      "cell_type": "markdown",
      "metadata": {
        "id": "XSVlIyKCRN9K"
      },
      "source": [
        "### Converting Labels to one hot encoded format\n"
      ]
    },
    {
      "cell_type": "code",
      "execution_count": 53,
      "metadata": {
        "id": "gHzqvBrjRN9K"
      },
      "outputs": [],
      "source": [
        "train_Y_one_hot = to_categorical(train_Y)\n",
        "test_Y_one_hot = to_categorical(test_Y)"
      ]
    },
    {
      "cell_type": "markdown",
      "metadata": {
        "id": "Wi6zl4yARN9L"
      },
      "source": [
        "### Splitting train data as train and validation data\n"
      ]
    },
    {
      "cell_type": "code",
      "execution_count": 54,
      "metadata": {
        "id": "O87RyhdfRN9L"
      },
      "outputs": [],
      "source": [
        "train_X,valid_X,train_label,valid_label = train_test_split(train_X,\n",
        "                                                           train_Y_one_hot,\n",
        "                                                           test_size=0.2,\n",
        "                                                           random_state=13\n",
        "                                                           )"
      ]
    },
    {
      "cell_type": "code",
      "execution_count": 55,
      "metadata": {
        "id": "xS351GgwRN9M",
        "outputId": "29dc9aaf-9051-4d5c-bb7e-47f9fb54e990",
        "colab": {
          "base_uri": "https://localhost:8080/"
        }
      },
      "outputs": [
        {
          "output_type": "execute_result",
          "data": {
            "text/plain": [
              "((48000, 48, 48, 3), (12000, 48, 48, 3), (48000, 10), (12000, 10))"
            ]
          },
          "metadata": {},
          "execution_count": 55
        }
      ],
      "source": [
        "train_X.shape,valid_X.shape,train_label.shape,valid_label.shape"
      ]
    },
    {
      "cell_type": "markdown",
      "metadata": {
        "id": "78_6zkw6RN9M"
      },
      "source": [
        "#### Defining the parameters for instanitaing VGG16 model. \n"
      ]
    },
    {
      "cell_type": "code",
      "source": [
        ""
      ],
      "metadata": {
        "id": "rvDNiFrDaT11"
      },
      "execution_count": 55,
      "outputs": []
    },
    {
      "cell_type": "code",
      "execution_count": 56,
      "metadata": {
        "id": "YxRQ0MgeRN9M"
      },
      "outputs": [],
      "source": [
        "IMG_WIDTH = 48\n",
        "IMG_HEIGHT = 48\n",
        "IMG_DEPTH = 3\n",
        "BATCH_SIZE = 16"
      ]
    },
    {
      "cell_type": "markdown",
      "metadata": {
        "id": "nzfKiXBORN9N"
      },
      "source": [
        "#### Preprocessing the input \n"
      ]
    },
    {
      "cell_type": "code",
      "execution_count": 57,
      "metadata": {
        "id": "H5vDvkXURN9N"
      },
      "outputs": [],
      "source": [
        "#оце вже функція з архтектури\n",
        "train_X = preprocess_input(train_X)\n",
        "valid_X = preprocess_input(valid_X)\n",
        "test_X  = preprocess_input (test_X)"
      ]
    },
    {
      "cell_type": "markdown",
      "metadata": {
        "id": "1Nf_FixlRN9N"
      },
      "source": [
        "### VGG-16 From Keras Library\n",
        "\n",
        "* `include_top`  - Чи використовувати перші три fully-connected layers. То класно використовувати, коли маємо 100500 класів (тобто взагалі алгоритм заточений під 1000 з ImageNet, але в нас ільки 10, того немає в тому потреби)\n",
        "\n",
        "* `input_shape`: тут треба вказати, бо в нас include_top - false, і розмір не (255,255, 3), як в класичному варіанті\n",
        "\n"
      ]
    },
    {
      "cell_type": "code",
      "execution_count": 58,
      "metadata": {
        "id": "OqdG9uPCRN9N",
        "outputId": "b317af86-6b60-412c-cbe2-de5d063c7c7b",
        "colab": {
          "base_uri": "https://localhost:8080/"
        }
      },
      "outputs": [
        {
          "output_type": "stream",
          "name": "stdout",
          "text": [
            "Model: \"vgg16\"\n",
            "_________________________________________________________________\n",
            " Layer (type)                Output Shape              Param #   \n",
            "=================================================================\n",
            " input_4 (InputLayer)        [(None, 48, 48, 3)]       0         \n",
            "                                                                 \n",
            " block1_conv1 (Conv2D)       (None, 48, 48, 64)        1792      \n",
            "                                                                 \n",
            " block1_conv2 (Conv2D)       (None, 48, 48, 64)        36928     \n",
            "                                                                 \n",
            " block1_pool (MaxPooling2D)  (None, 24, 24, 64)        0         \n",
            "                                                                 \n",
            " block2_conv1 (Conv2D)       (None, 24, 24, 128)       73856     \n",
            "                                                                 \n",
            " block2_conv2 (Conv2D)       (None, 24, 24, 128)       147584    \n",
            "                                                                 \n",
            " block2_pool (MaxPooling2D)  (None, 12, 12, 128)       0         \n",
            "                                                                 \n",
            " block3_conv1 (Conv2D)       (None, 12, 12, 256)       295168    \n",
            "                                                                 \n",
            " block3_conv2 (Conv2D)       (None, 12, 12, 256)       590080    \n",
            "                                                                 \n",
            " block3_conv3 (Conv2D)       (None, 12, 12, 256)       590080    \n",
            "                                                                 \n",
            " block3_pool (MaxPooling2D)  (None, 6, 6, 256)         0         \n",
            "                                                                 \n",
            " block4_conv1 (Conv2D)       (None, 6, 6, 512)         1180160   \n",
            "                                                                 \n",
            " block4_conv2 (Conv2D)       (None, 6, 6, 512)         2359808   \n",
            "                                                                 \n",
            " block4_conv3 (Conv2D)       (None, 6, 6, 512)         2359808   \n",
            "                                                                 \n",
            " block4_pool (MaxPooling2D)  (None, 3, 3, 512)         0         \n",
            "                                                                 \n",
            " block5_conv1 (Conv2D)       (None, 3, 3, 512)         2359808   \n",
            "                                                                 \n",
            " block5_conv2 (Conv2D)       (None, 3, 3, 512)         2359808   \n",
            "                                                                 \n",
            " block5_conv3 (Conv2D)       (None, 3, 3, 512)         2359808   \n",
            "                                                                 \n",
            " block5_pool (MaxPooling2D)  (None, 1, 1, 512)         0         \n",
            "                                                                 \n",
            "=================================================================\n",
            "Total params: 14,714,688\n",
            "Trainable params: 14,714,688\n",
            "Non-trainable params: 0\n",
            "_________________________________________________________________\n"
          ]
        }
      ],
      "source": [
        "conv_base = keras.applications.vgg16.VGG16(\n",
        "                  include_top=False, \n",
        "                  input_shape=(IMG_HEIGHT, IMG_WIDTH, IMG_DEPTH)\n",
        "                 )\n",
        "conv_base.summary()"
      ]
    },
    {
      "cell_type": "markdown",
      "metadata": {
        "id": "beFwB04hRN9O"
      },
      "source": [
        "## Training the Model\n",
        "\n",
        "* Extracting features"
      ]
    },
    {
      "cell_type": "code",
      "execution_count": 59,
      "metadata": {
        "id": "tQB7SlCIRN9O",
        "outputId": "56101a91-c799-4513-e87c-7dc93c8772be",
        "colab": {
          "base_uri": "https://localhost:8080/"
        }
      },
      "outputs": [
        {
          "output_type": "stream",
          "name": "stdout",
          "text": [
            "3000/3000 [==============================] - 21s 7ms/step\n",
            "625/625 [==============================] - 4s 7ms/step\n",
            "750/750 [==============================] - 5s 7ms/step\n"
          ]
        }
      ],
      "source": [
        "train_features = conv_base.predict(np.array(train_X), batch_size=BATCH_SIZE, verbose=1)\n",
        "test_features = conv_base.predict(np.array(test_X), batch_size=BATCH_SIZE, verbose=1)\n",
        "val_features = conv_base.predict(np.array(valid_X), batch_size=BATCH_SIZE, verbose=1)"
      ]
    },
    {
      "cell_type": "markdown",
      "metadata": {
        "id": "mjS6DxnMRN9O"
      },
      "source": [
        "* Save the features so that they can be used for future"
      ]
    },
    {
      "cell_type": "code",
      "execution_count": 60,
      "metadata": {
        "id": "lRfAQmiwRN9O"
      },
      "outputs": [],
      "source": [
        "np.savez(\"train_features\", train_features, train_label)\n",
        "np.savez(\"test_features\", test_features, test_Y)\n",
        "np.savez(\"val_features\", val_features, valid_label)"
      ]
    },
    {
      "cell_type": "markdown",
      "metadata": {
        "id": "lns3iSF-RN9P"
      },
      "source": [
        "* Shape of features"
      ]
    },
    {
      "cell_type": "code",
      "execution_count": 61,
      "metadata": {
        "id": "RzgMR-TbRN9P",
        "outputId": "a57665cb-3331-4a97-9138-7dc4384e714d",
        "colab": {
          "base_uri": "https://localhost:8080/"
        }
      },
      "outputs": [
        {
          "output_type": "stream",
          "name": "stdout",
          "text": [
            "(48000, 1, 1, 512) \n",
            " (10000, 1, 1, 512) \n",
            " (12000, 1, 1, 512)\n"
          ]
        }
      ],
      "source": [
        "print(train_features.shape, \"\\n\",  test_features.shape, \"\\n\", val_features.shape)"
      ]
    },
    {
      "cell_type": "code",
      "execution_count": 62,
      "metadata": {
        "id": "akQp_xWeRN9P"
      },
      "outputs": [],
      "source": [
        "# Flatten extracted features\n",
        "train_features_flat = np.reshape(train_features, (48000, 1*1*512))\n",
        "test_features_flat = np.reshape(test_features, (10000, 1*1*512))\n",
        "val_features_flat = np.reshape(val_features, (12000, 1*1*512))"
      ]
    },
    {
      "cell_type": "code",
      "execution_count": 63,
      "metadata": {
        "id": "6yL01zxaRN9P"
      },
      "outputs": [],
      "source": [
        "from keras import models\n",
        "from keras.models import Model\n",
        "from keras import layers\n",
        "from tensorflow.keras import optimizers\n",
        "from keras import callbacks\n",
        "from keras.layers.advanced_activations import LeakyReLU"
      ]
    },
    {
      "cell_type": "markdown",
      "metadata": {
        "id": "VG--VvQkRN9P"
      },
      "source": [
        "\n",
        "##### Define the densely connected classifier followed by leakyrelu layer and final dense layer for the number of classes\n"
      ]
    },
    {
      "cell_type": "code",
      "execution_count": 64,
      "metadata": {
        "id": "ErO-Xz2TRN9P"
      },
      "outputs": [],
      "source": [
        "NB_TRAIN_SAMPLES = train_features_flat.shape[0]\n",
        "NB_VALIDATION_SAMPLES = val_features_flat.shape[0]\n",
        "NB_EPOCHS = 100\n",
        "\n",
        "model = models.Sequential()\n",
        "model.add(layers.Dense(512, activation='relu', input_dim=(1*1*512)))\n",
        "model.add(layers.LeakyReLU(alpha=0.1))\n",
        "model.add(layers.Dense(num_classes, activation='softmax'))"
      ]
    },
    {
      "cell_type": "markdown",
      "metadata": {
        "id": "n70UUKhURN9Q"
      },
      "source": [
        "##### Compiling the model."
      ]
    },
    {
      "cell_type": "code",
      "execution_count": 65,
      "metadata": {
        "id": "bkvnsF6XRN9Q"
      },
      "outputs": [],
      "source": [
        "model.compile(\n",
        "    loss='categorical_crossentropy',\n",
        "    optimizer=optimizers.Adam(),\n",
        "    metrics=['acc'])"
      ]
    },
    {
      "cell_type": "code",
      "execution_count": 66,
      "metadata": {
        "id": "VIXuAEp_RN9Q"
      },
      "outputs": [],
      "source": [
        "eary_stopping = callbacks.EarlyStopping(\n",
        "    monitor='val_loss',\n",
        "    min_delta=0,\n",
        "    patience=7,\n",
        "    verbose=1,\n",
        "    mode='auto')\n",
        "\n",
        "callbacks = [reduce_learning, eary_stopping]"
      ]
    },
    {
      "cell_type": "code",
      "execution_count": 67,
      "metadata": {
        "id": "xVrp8CsdRN9Q",
        "outputId": "3912bd02-7e90-4ce1-bb93-04e2acf0b414",
        "colab": {
          "base_uri": "https://localhost:8080/"
        }
      },
      "outputs": [
        {
          "output_type": "stream",
          "name": "stdout",
          "text": [
            "Epoch 1/50\n",
            "1500/1500 [==============================] - 5s 3ms/step - loss: 2.4295 - acc: 0.1007 - val_loss: 2.3275 - val_acc: 0.1007 - lr: 0.0010\n",
            "Epoch 2/50\n",
            "1500/1500 [==============================] - 4s 3ms/step - loss: 2.3439 - acc: 0.0963 - val_loss: 2.3079 - val_acc: 0.1040 - lr: 0.0010\n",
            "Epoch 3/50\n",
            "1500/1500 [==============================] - 4s 3ms/step - loss: 2.3063 - acc: 0.0987 - val_loss: 2.3028 - val_acc: 0.0976 - lr: 0.0010\n",
            "Epoch 4/50\n",
            "1500/1500 [==============================] - 4s 3ms/step - loss: 2.3027 - acc: 0.0984 - val_loss: 2.3026 - val_acc: 0.1018 - lr: 0.0010\n",
            "Epoch 5/50\n",
            "1500/1500 [==============================] - 4s 3ms/step - loss: 2.3028 - acc: 0.1004 - val_loss: 2.3031 - val_acc: 0.0946 - lr: 0.0010\n",
            "Epoch 6/50\n",
            "1499/1500 [============================>.] - ETA: 0s - loss: 2.3027 - acc: 0.0995\n",
            "Epoch 6: ReduceLROnPlateau reducing learning rate to 0.00020000000949949026.\n",
            "1500/1500 [==============================] - 4s 3ms/step - loss: 2.3027 - acc: 0.0995 - val_loss: 2.3031 - val_acc: 0.0976 - lr: 0.0010\n",
            "Epoch 7/50\n",
            "1500/1500 [==============================] - 4s 3ms/step - loss: 2.3027 - acc: 0.1003 - val_loss: 2.3029 - val_acc: 0.0976 - lr: 2.0000e-04\n",
            "Epoch 8/50\n",
            "1500/1500 [==============================] - 4s 3ms/step - loss: 2.3026 - acc: 0.1007 - val_loss: 2.3029 - val_acc: 0.0946 - lr: 2.0000e-04\n",
            "Epoch 9/50\n",
            "1497/1500 [============================>.] - ETA: 0s - loss: 2.3026 - acc: 0.0999\n",
            "Epoch 9: ReduceLROnPlateau reducing learning rate to 4.0000001899898055e-05.\n",
            "1500/1500 [==============================] - 4s 3ms/step - loss: 2.3026 - acc: 0.0998 - val_loss: 2.3028 - val_acc: 0.0946 - lr: 2.0000e-04\n",
            "Epoch 10/50\n",
            "1500/1500 [==============================] - 4s 3ms/step - loss: 2.3026 - acc: 0.1014 - val_loss: 2.3028 - val_acc: 0.0946 - lr: 4.0000e-05\n",
            "Epoch 11/50\n",
            "1500/1500 [==============================] - 4s 3ms/step - loss: 2.3026 - acc: 0.1014 - val_loss: 2.3028 - val_acc: 0.0946 - lr: 4.0000e-05\n",
            "Epoch 11: early stopping\n"
          ]
        }
      ],
      "source": [
        "# Train the Model\n",
        "history = model.fit(\n",
        "    train_features_flat,\n",
        "    train_label,\n",
        "    epochs=50,\n",
        "    validation_data=(val_features_flat, valid_label),\n",
        "    callbacks=callbacks\n",
        ")"
      ]
    },
    {
      "cell_type": "markdown",
      "metadata": {
        "id": "MGCQ8obGRN9R"
      },
      "source": [
        "## Plots of Loss and Accuracy\n",
        "\n",
        "* Plotting the Loss and Accuracy graphs"
      ]
    },
    {
      "cell_type": "code",
      "execution_count": 68,
      "metadata": {
        "id": "89F8N_tsRN9R",
        "outputId": "7d0084d9-214f-4fa3-d192-7839d3d032ac",
        "colab": {
          "base_uri": "https://localhost:8080/",
          "height": 545
        }
      },
      "outputs": [
        {
          "output_type": "display_data",
          "data": {
            "text/plain": [
              "<Figure size 432x288 with 1 Axes>"
            ],
            "image/png": "[encoded data removed]"
          },
          "metadata": {
            "needs_background": "light"
          }
        },
        {
          "output_type": "display_data",
          "data": {
            "text/plain": [
              "<Figure size 432x288 with 1 Axes>"
            ],
            "image/png": "[encoded data removed]"
          },
          "metadata": {
            "needs_background": "light"
          }
        }
      ],
      "source": [
        "acc = history.history['acc']\n",
        "val_acc = history.history['val_acc']\n",
        "loss = history.history['loss']\n",
        "val_loss = history.history['val_loss']\n",
        "epochs = range(1, len(acc) + 1)\n",
        "\n",
        "plt.title('Training and validation accuracy')\n",
        "plt.plot(epochs, acc, 'green', label='Training acc')\n",
        "plt.plot(epochs, val_acc, 'blue', label='Validation acc')\n",
        "plt.legend()\n",
        "\n",
        "plt.figure()\n",
        "plt.title('Training and validation loss')\n",
        "plt.plot(epochs, loss, 'green', label='Training loss')\n",
        "plt.plot(epochs, val_loss, 'blue', label='Validation loss')\n",
        "\n",
        "plt.legend()\n",
        "\n",
        "plt.show()"
      ]
    },
    {
      "cell_type": "code",
      "source": [
        ""
      ],
      "metadata": {
        "id": "Px95Zcw1ewh4"
      },
      "execution_count": null,
      "outputs": []
    }
  ]
}